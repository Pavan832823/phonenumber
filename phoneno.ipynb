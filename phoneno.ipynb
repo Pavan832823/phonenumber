{
 "cells": [
  {
   "cell_type": "code",
   "execution_count": 3,
   "id": "efc89c87-d941-410d-b375-e718a309a6c2",
   "metadata": {},
   "outputs": [
    {
     "name": "stdout",
     "output_type": "stream",
     "text": [
      "Defaulting to user installation because normal site-packages is not writeable\n",
      "Collecting phonenumbers\n",
      "  Downloading phonenumbers-9.0.3-py2.py3-none-any.whl.metadata (11 kB)\n",
      "Downloading phonenumbers-9.0.3-py2.py3-none-any.whl (2.6 MB)\n",
      "   ---------------------------------------- 0.0/2.6 MB ? eta -:--:--\n",
      "   ------- -------------------------------- 0.5/2.6 MB 9.8 MB/s eta 0:00:01\n",
      "   ------------------------- -------------- 1.6/2.6 MB 20.6 MB/s eta 0:00:01\n",
      "   ---------------------------------------  2.6/2.6 MB 20.6 MB/s eta 0:00:01\n",
      "   ---------------------------------------- 2.6/2.6 MB 15.0 MB/s eta 0:00:00\n",
      "Installing collected packages: phonenumbers\n",
      "Successfully installed phonenumbers-9.0.3\n",
      "Note: you may need to restart the kernel to use updated packages.\n"
     ]
    }
   ],
   "source": [
    "pip install phonenumbers"
   ]
  },
  {
   "cell_type": "code",
   "execution_count": 9,
   "id": "f4943efa-dde1-485e-9a74-2cbb679d81a6",
   "metadata": {},
   "outputs": [
    {
     "name": "stdin",
     "output_type": "stream",
     "text": [
      "Enter the phone number with country code :  +919491555165\n"
     ]
    },
    {
     "name": "stdout",
     "output_type": "stream",
     "text": [
      "timezone : ('Asia/Calcutta',)\n",
      "location : India\n",
      "service provider : BSNL MOBILE\n"
     ]
    }
   ],
   "source": [
    "import phonenumbers\n",
    "from phonenumbers import timezone\n",
    "from phonenumbers import geocoder\n",
    "from phonenumbers import carrier\n",
    " \n",
    "number = input(\"Enter the phone number with country code : \")\n",
    " \n",
    "# Parsing String to the Phone number\n",
    "phoneNumber = phonenumbers.parse(number)\n",
    " \n",
    "# printing the timezone using the timezone module\n",
    "timeZone = timezone.time_zones_for_number(phoneNumber)\n",
    "print(\"timezone : \"+str(timeZone))\n",
    " \n",
    "# printing the geolocation of the given number using the geocoder module\n",
    "geolocation = geocoder.description_for_number(phoneNumber,\"en\")\n",
    "print(\"location : \"+geolocation)\n",
    " \n",
    "# printing the service provider name using the carrier module\n",
    "service = carrier.name_for_number(phoneNumber,\"en\")\n",
    "print(\"service provider : \"+service)"
   ]
  },
  {
   "cell_type": "code",
   "execution_count": 13,
   "id": "c1d5d831-73be-4e67-bf00-31f82e1a189b",
   "metadata": {},
   "outputs": [
    {
     "name": "stdout",
     "output_type": "stream",
     "text": [
      "Defaulting to user installation because normal site-packages is not writeable\n",
      "Collecting geopy\n",
      "  Downloading geopy-2.4.1-py3-none-any.whl.metadata (6.8 kB)\n",
      "Collecting geographiclib<3,>=1.52 (from geopy)\n",
      "  Downloading geographiclib-2.0-py3-none-any.whl.metadata (1.4 kB)\n",
      "Downloading geopy-2.4.1-py3-none-any.whl (125 kB)\n",
      "   ---------------------------------------- 0.0/125.4 kB ? eta -:--:--\n",
      "   ---------------------------------------- 0.0/125.4 kB ? eta -:--:--\n",
      "   --- ------------------------------------ 10.2/125.4 kB ? eta -:--:--\n",
      "   --------- ----------------------------- 30.7/125.4 kB 262.6 kB/s eta 0:00:01\n",
      "   ------------------- ------------------- 61.4/125.4 kB 469.7 kB/s eta 0:00:01\n",
      "   -------------------------------------- 125.4/125.4 kB 738.4 kB/s eta 0:00:00\n",
      "Downloading geographiclib-2.0-py3-none-any.whl (40 kB)\n",
      "   ---------------------------------------- 0.0/40.3 kB ? eta -:--:--\n",
      "   ---------------------------------------- 40.3/40.3 kB ? eta 0:00:00\n",
      "Installing collected packages: geographiclib, geopy\n",
      "Successfully installed geographiclib-2.0 geopy-2.4.1\n",
      "Note: you may need to restart the kernel to use updated packages.\n"
     ]
    }
   ],
   "source": [
    "pip install geopy"
   ]
  },
  {
   "cell_type": "code",
   "execution_count": 1,
   "id": "4adf4e26-aa39-4bb2-a0b3-0bb78aa39d42",
   "metadata": {},
   "outputs": [
    {
     "name": "stdin",
     "output_type": "stream",
     "text": [
      "Enter the phone number with country code:  +918328234879\n"
     ]
    },
    {
     "name": "stdout",
     "output_type": "stream",
     "text": [
      "Timezone: ('Asia/Calcutta',)\n",
      "Region (from number): India\n",
      "Service Provider: Reliance Jio\n",
      "More precise location info:\n",
      " - Address: India\n",
      " - Latitude: 22.3511148\n",
      " - Longitude: 78.6677428\n"
     ]
    }
   ],
   "source": [
    "import phonenumbers\n",
    "from phonenumbers import timezone, geocoder, carrier\n",
    "from geopy.geocoders import Nominatim\n",
    "\n",
    "# Input the number\n",
    "number = input(\"Enter the phone number with country code: \")\n",
    "\n",
    "# Parse the phone number\n",
    "phoneNumber = phonenumbers.parse(number)\n",
    "\n",
    "# Timezone info\n",
    "timeZone = timezone.time_zones_for_number(phoneNumber)\n",
    "print(\"Timezone:\", timeZone)\n",
    "\n",
    "# General location from number\n",
    "region = geocoder.description_for_number(phoneNumber, \"en\")\n",
    "print(\"Region (from number):\", region)\n",
    "\n",
    "# Carrier info\n",
    "service = carrier.name_for_number(phoneNumber, \"en\")\n",
    "print(\"Service Provider:\", service)\n",
    "\n",
    "# Use geopy to get deeper geolocation (state/city approximation)\n",
    "geolocator = Nominatim(user_agent=\"phone_locator_app\")\n",
    "\n",
    "try:\n",
    "    location = geolocator.geocode(region)\n",
    "    if location:\n",
    "        print(f\"More precise location info:\")\n",
    "        print(f\" - Address: {location.address}\")\n",
    "        print(f\" - Latitude: {location.latitude}\")\n",
    "        print(f\" - Longitude: {location.longitude}\")\n",
    "    else:\n",
    "        print(\"Could not retrieve detailed location info from region.\")\n",
    "except Exception as e:\n",
    "    print(f\"Error retrieving detailed location: {e}\")\n"
   ]
  },
  {
   "cell_type": "code",
   "execution_count": null,
   "id": "e9b9807c-8fb9-4b41-aae8-cddde42a2d8a",
   "metadata": {},
   "outputs": [],
   "source": []
  }
 ],
 "metadata": {
  "kernelspec": {
   "display_name": "Python 3 (ipykernel)",
   "language": "python",
   "name": "python3"
  },
  "language_info": {
   "codemirror_mode": {
    "name": "ipython",
    "version": 3
   },
   "file_extension": ".py",
   "mimetype": "text/x-python",
   "name": "python",
   "nbconvert_exporter": "python",
   "pygments_lexer": "ipython3",
   "version": "3.12.4"
  }
 },
 "nbformat": 4,
 "nbformat_minor": 5
}
